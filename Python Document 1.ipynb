{
 "cells": [
  {
   "cell_type": "markdown",
   "metadata": {},
   "source": [
    "# Week 2 - Monday Lesson (variable assignment, loops, lists)"
   ]
  },
  {
   "cell_type": "markdown",
   "metadata": {},
   "source": [
    "## Tasks Today:\n",
    "\n",
    "1) Int & Float assignments <br>\n",
    " &nbsp;&nbsp;&nbsp;&nbsp; a) Assigning int <br>\n",
    " &nbsp;&nbsp;&nbsp;&nbsp; b) Assigning float <br>\n",
    " &nbsp;&nbsp;&nbsp;&nbsp; c) Performing Calculations on ints and floats <br>\n",
    " &nbsp;&nbsp;&nbsp;&nbsp;&nbsp;&nbsp;&nbsp;&nbsp; - Addition <br>\n",
    " &nbsp;&nbsp;&nbsp;&nbsp;&nbsp;&nbsp;&nbsp;&nbsp; - Subtraction <br>\n",
    " &nbsp;&nbsp;&nbsp;&nbsp;&nbsp;&nbsp;&nbsp;&nbsp; - Multiplication <br>\n",
    " &nbsp;&nbsp;&nbsp;&nbsp;&nbsp;&nbsp;&nbsp;&nbsp; - Division <br>\n",
    " &nbsp;&nbsp;&nbsp;&nbsp;&nbsp;&nbsp;&nbsp;&nbsp; - Floor Division <br>\n",
    " &nbsp;&nbsp;&nbsp;&nbsp;&nbsp;&nbsp;&nbsp;&nbsp; - Modulo <br>\n",
    " &nbsp;&nbsp;&nbsp;&nbsp;&nbsp;&nbsp;&nbsp;&nbsp; - Exponential <br>\n",
    "2) String Input-Output <br>\n",
    " &nbsp;&nbsp;&nbsp;&nbsp; a) String Assignment <br>\n",
    " &nbsp;&nbsp;&nbsp;&nbsp; b) print() <br>\n",
    " &nbsp;&nbsp;&nbsp;&nbsp; c) String Concatenation <br>\n",
    " &nbsp;&nbsp;&nbsp;&nbsp; d) Type Conversion <br>\n",
    " &nbsp;&nbsp;&nbsp;&nbsp; e) input() <br>\n",
    " &nbsp;&nbsp;&nbsp;&nbsp; f) format() <br>\n",
    " &nbsp;&nbsp;&nbsp;&nbsp; g) Old Way (python 2) <br>\n",
    "3) <b>In-Class Exercise #1</b> <br>\n",
    "4) If Statements <br>\n",
    " &nbsp;&nbsp;&nbsp;&nbsp; a) 'is' keyword <br>\n",
    " &nbsp;&nbsp;&nbsp;&nbsp; b) 'in' keyword <br>\n",
    " &nbsp;&nbsp;&nbsp;&nbsp; c) 'not in' keyword <br>\n",
    "5) <b>In-Class Exercise #2</b> <br>\n",
    "6) Elif Statements <br>\n",
    "7) Else Statements <br>\n",
    "8) <b>In-Class Exercise #3</b> <br>\n",
    "9) For Loops <br>\n",
    " &nbsp;&nbsp;&nbsp;&nbsp; a) Using 'in' keyword <br>\n",
    " &nbsp;&nbsp;&nbsp;&nbsp; b) Continue Statement <br>\n",
    " &nbsp;&nbsp;&nbsp;&nbsp; c) Break Statement <br>\n",
    " &nbsp;&nbsp;&nbsp;&nbsp; d) Pass Statement <br>\n",
    " &nbsp;&nbsp;&nbsp;&nbsp; e) Double For Loops <br>\n",
    "10) While Loops <br>\n",
    " &nbsp;&nbsp;&nbsp;&nbsp; a) Looping 'While True' <br>\n",
    " &nbsp;&nbsp;&nbsp;&nbsp; b) While and For Loops Used Together <br>\n",
    "11) Built-In Functions <br>\n",
    " &nbsp;&nbsp;&nbsp;&nbsp; a) range() <br>\n",
    " &nbsp;&nbsp;&nbsp;&nbsp; b) len() <br>\n",
    " &nbsp;&nbsp;&nbsp;&nbsp; c) help() <br>\n",
    " &nbsp;&nbsp;&nbsp;&nbsp; d) isinstance() <br>\n",
    " &nbsp;&nbsp;&nbsp;&nbsp; e) abs() <br>\n",
    "12) Try and Except <br>\n",
    "13) Lists <br>\n",
    " &nbsp;&nbsp;&nbsp;&nbsp; a) Declaring Lists <br>\n",
    " &nbsp;&nbsp;&nbsp;&nbsp; b) Indexing a List <br>\n",
    " &nbsp;&nbsp;&nbsp;&nbsp; c) .append() <br>\n",
    " &nbsp;&nbsp;&nbsp;&nbsp; d) .insert() <br>\n",
    " &nbsp;&nbsp;&nbsp;&nbsp; e) .pop() <br>\n",
    " &nbsp;&nbsp;&nbsp;&nbsp; f) .remove() <br>\n",
    " &nbsp;&nbsp;&nbsp;&nbsp; g) del() <br>\n",
    " &nbsp;&nbsp;&nbsp;&nbsp; h) Concatenating Two Lists <br>\n",
    " &nbsp;&nbsp;&nbsp;&nbsp; i) Lists Within Lists <br>\n",
    " &nbsp;&nbsp;&nbsp;&nbsp; j) Looping Through Lists <br>"
   ]
  },
  {
   "cell_type": "markdown",
   "metadata": {},
   "source": [
    "### Int & Float Assignments"
   ]
  },
  {
   "cell_type": "markdown",
   "metadata": {},
   "source": [
    "##### Assigning int"
   ]
  },
  {
   "cell_type": "code",
   "execution_count": 4,
   "metadata": {},
   "outputs": [
    {
     "name": "stdout",
     "output_type": "stream",
     "text": [
      "3\n"
     ]
    }
   ],
   "source": [
    "num1 = 3\n",
    "print(num1)"
   ]
  },
  {
   "cell_type": "markdown",
   "metadata": {},
   "source": [
    "##### Assinging float"
   ]
  },
  {
   "cell_type": "code",
   "execution_count": 5,
   "metadata": {},
   "outputs": [
    {
     "name": "stdout",
     "output_type": "stream",
     "text": [
      "6.79\n"
     ]
    }
   ],
   "source": [
    "num_float = 6.79\n",
    "print(num_float)"
   ]
  },
  {
   "cell_type": "markdown",
   "metadata": {},
   "source": [
    "#### Performing Calculations on ints and floats"
   ]
  },
  {
   "cell_type": "markdown",
   "metadata": {},
   "source": [
    "##### Addition"
   ]
  },
  {
   "cell_type": "code",
   "execution_count": 12,
   "metadata": {},
   "outputs": [
    {
     "name": "stdout",
     "output_type": "stream",
     "text": [
      "9.79\n",
      "11.79\n"
     ]
    }
   ],
   "source": [
    "result_add = num1 + num_float\n",
    "print(result_add)\n",
    "\n",
    "result_add += 2\n",
    "print(result_add)"
   ]
  },
  {
   "cell_type": "markdown",
   "metadata": {},
   "source": [
    "##### Subtraction"
   ]
  },
  {
   "cell_type": "code",
   "execution_count": 7,
   "metadata": {},
   "outputs": [
    {
     "name": "stdout",
     "output_type": "stream",
     "text": [
      "3.79\n"
     ]
    }
   ],
   "source": [
    "result_sub = num_float - num1\n",
    "print(result_sub)"
   ]
  },
  {
   "cell_type": "markdown",
   "metadata": {},
   "source": [
    "##### Multiplication"
   ]
  },
  {
   "cell_type": "code",
   "execution_count": 9,
   "metadata": {},
   "outputs": [
    {
     "name": "stdout",
     "output_type": "stream",
     "text": [
      "20.37\n"
     ]
    }
   ],
   "source": [
    "result_mult = num1 * num_float\n",
    "print(result_mult)"
   ]
  },
  {
   "cell_type": "markdown",
   "metadata": {},
   "source": [
    "##### Division"
   ]
  },
  {
   "cell_type": "code",
   "execution_count": 10,
   "metadata": {},
   "outputs": [
    {
     "name": "stdout",
     "output_type": "stream",
     "text": [
      "2.263333333333333\n"
     ]
    }
   ],
   "source": [
    "result_div = num_float / num1\n",
    "print(result_div)"
   ]
  },
  {
   "cell_type": "markdown",
   "metadata": {},
   "source": [
    "##### Floor Division"
   ]
  },
  {
   "cell_type": "code",
   "execution_count": 11,
   "metadata": {},
   "outputs": [
    {
     "name": "stdout",
     "output_type": "stream",
     "text": [
      "2.0\n"
     ]
    }
   ],
   "source": [
    "result_floor = num_float // num1\n",
    "print(result_floor)"
   ]
  },
  {
   "cell_type": "markdown",
   "metadata": {},
   "source": [
    "##### Modulo- returns the remainder"
   ]
  },
  {
   "cell_type": "code",
   "execution_count": 15,
   "metadata": {},
   "outputs": [
    {
     "name": "stdout",
     "output_type": "stream",
     "text": [
      "0 3\n"
     ]
    }
   ],
   "source": [
    "num2 = 10\n",
    "num3 = 2\n",
    "\n",
    "num4 = 11\n",
    "num5 = 4\n",
    "result_mod1 = num2 % num3\n",
    "result_mod2 = num4 % num5\n",
    "print(result_mod1, result_mod2)"
   ]
  },
  {
   "cell_type": "markdown",
   "metadata": {},
   "source": [
    "##### Exponential"
   ]
  },
  {
   "cell_type": "code",
   "execution_count": 18,
   "metadata": {},
   "outputs": [
    {
     "name": "stdout",
     "output_type": "stream",
     "text": [
      "9 27\n"
     ]
    }
   ],
   "source": [
    "square = num1 ** 2\n",
    "cubed = num1 ** 3\n",
    "print(square, cubed)\n"
   ]
  },
  {
   "cell_type": "markdown",
   "metadata": {},
   "source": [
    "### String Input-Output"
   ]
  },
  {
   "cell_type": "markdown",
   "metadata": {},
   "source": [
    "##### String Assignment"
   ]
  },
  {
   "cell_type": "code",
   "execution_count": 19,
   "metadata": {},
   "outputs": [
    {
     "name": "stdout",
     "output_type": "stream",
     "text": [
      "jake\n"
     ]
    }
   ],
   "source": [
    "name = 'jake'\n",
    "print(name)"
   ]
  },
  {
   "cell_type": "markdown",
   "metadata": {},
   "source": [
    "##### print() <br>\n",
    "<p>Don't forget about end=' '</p>"
   ]
  },
  {
   "cell_type": "code",
   "execution_count": 22,
   "metadata": {},
   "outputs": [
    {
     "name": "stdout",
     "output_type": "stream",
     "text": [
      "this is my first name: jake\n",
      "full name: jake nelson"
     ]
    }
   ],
   "source": [
    "print('this is my first name:', name)\n",
    "print('full name:', name, end=' nelson')"
   ]
  },
  {
   "cell_type": "markdown",
   "metadata": {},
   "source": [
    "##### String Concatenation"
   ]
  },
  {
   "cell_type": "code",
   "execution_count": 25,
   "metadata": {},
   "outputs": [
    {
     "name": "stdout",
     "output_type": "stream",
     "text": [
      "john jefferson\n",
      "john jefferson .jr\n"
     ]
    }
   ],
   "source": [
    "f_name = 'john'\n",
    "l_name = 'jefferson'\n",
    "full_name = f_name + ' ' + l_name\n",
    "print(full_name)\n",
    "full_name += ' .jr'\n",
    "print(full_name)"
   ]
  },
  {
   "cell_type": "markdown",
   "metadata": {},
   "source": [
    "##### Type Conversion"
   ]
  },
  {
   "cell_type": "code",
   "execution_count": 28,
   "metadata": {},
   "outputs": [
    {
     "name": "stdout",
     "output_type": "stream",
     "text": [
      "321\n",
      "33\n"
     ]
    }
   ],
   "source": [
    "number = '32'\n",
    "change_type_num = int(number)\n",
    "# only works with actual numbers\n",
    "\n",
    "print(number + \"1\")\n",
    "print(change_type_num + 1)"
   ]
  },
  {
   "cell_type": "markdown",
   "metadata": {},
   "source": [
    "##### input()"
   ]
  },
  {
   "cell_type": "code",
   "execution_count": 34,
   "metadata": {},
   "outputs": [
    {
     "name": "stdout",
     "output_type": "stream",
     "text": [
      "what is your age: 30\n",
      "in 5 years, you will be 35\n"
     ]
    }
   ],
   "source": [
    "# input() always returns a string\n",
    "# name = input('what is your name: ')\n",
    "# print(name)\n",
    "\n",
    "age = int(input('what is your age: '))\n",
    "add_age = age + 5\n",
    "print('in 5 years, you will be', add_age)"
   ]
  },
  {
   "cell_type": "markdown",
   "metadata": {},
   "source": [
    "##### format()"
   ]
  },
  {
   "cell_type": "code",
   "execution_count": 36,
   "metadata": {},
   "outputs": [
    {
     "name": "stdout",
     "output_type": "stream",
     "text": [
      "what is your age? 30\n",
      "you are 30 jakey and you are getting wiser\n",
      "30 is a great time in life\n"
     ]
    }
   ],
   "source": [
    "age = input('what is your age? ')\n",
    "result_string = 'you are {} {} and you are getting wiser'.format(age, name)\n",
    "print(result_string)\n",
    "\n",
    "result_again = f\"{age} is a great time in life\"\n",
    "print(result_again)"
   ]
  },
  {
   "cell_type": "markdown",
   "metadata": {},
   "source": [
    "##### Old Way (python 2) a bit outdated"
   ]
  },
  {
   "cell_type": "code",
   "execution_count": null,
   "metadata": {},
   "outputs": [],
   "source": []
  },
  {
   "cell_type": "markdown",
   "metadata": {},
   "source": [
    "# In-Class Exercise 1 <br>\n",
    "<p>Create a format statement that asks for color, year, make, model and prints out the results</p>"
   ]
  },
  {
   "cell_type": "code",
   "execution_count": 39,
   "metadata": {},
   "outputs": [
    {
     "name": "stdout",
     "output_type": "stream",
     "text": [
      "what color is your car? red\n",
      "what year is your car? 2016\n",
      "what make is your car? honda\n",
      "what model is your car? crv\n",
      "you drive a red Honda crv that came out in 2016\n"
     ]
    }
   ],
   "source": [
    "car_color = input('what color is your car? ')\n",
    "car_year = input('what year is your car? ')\n",
    "car_make = input('what make is your car? ')\n",
    "car_model = input('what model is your car? ')\n",
    "\n",
    "print(f'you drive a {car_color} {car_make.title()} {car_model} that came out in {car_year}')"
   ]
  },
  {
   "cell_type": "markdown",
   "metadata": {},
   "source": [
    "### If Statements"
   ]
  },
  {
   "cell_type": "code",
   "execution_count": 47,
   "metadata": {},
   "outputs": [
    {
     "name": "stdout",
     "output_type": "stream",
     "text": [
      "not equal\n",
      "num1 is greatest\n"
     ]
    }
   ],
   "source": [
    "# Available operators: Greater(>), Less(<),Equal(==)\n",
    "# Greater or Equal(>=), Less or Equal (<=)\n",
    "\n",
    "# Truth Tree:\n",
    "# T && F = F\n",
    "# T && T = T\n",
    "# T || F = T\n",
    "# F || T = T\n",
    "# F || F = F\n",
    "\n",
    "num1 = 6\n",
    "num2 = 10\n",
    "num3 = 0\n",
    "if num1 == num2:\n",
    "    print('equal values')\n",
    "else:\n",
    "    print('not equal')\n",
    "    \n",
    "if num2 > num1 and num3 > 0:\n",
    "    print('num2 is greater')\n",
    "elif num1 > num2 or num1 > num3:\n",
    "    print('num1 is greatest')\n",
    "else:\n",
    "    print('the nums are equal')"
   ]
  },
  {
   "cell_type": "markdown",
   "metadata": {},
   "source": [
    "##### 'is' keyword"
   ]
  },
  {
   "cell_type": "code",
   "execution_count": 48,
   "metadata": {
    "scrolled": true
   },
   "outputs": [
    {
     "name": "stdout",
     "output_type": "stream",
     "text": [
      "this is the same number\n"
     ]
    },
    {
     "name": "stderr",
     "output_type": "stream",
     "text": [
      "<>:5: SyntaxWarning: \"is\" with a literal. Did you mean \"==\"?\n",
      "<>:5: SyntaxWarning: \"is\" with a literal. Did you mean \"==\"?\n",
      "/var/folders/jb/g9yszc1s6gz42xhwb5w4fvhm0000gn/T/ipykernel_71184/3972985364.py:5: SyntaxWarning: \"is\" with a literal. Did you mean \"==\"?\n",
      "  if num3 is 55:\n"
     ]
    }
   ],
   "source": [
    "# the 'is' keyword is for checking for the same object but not \n",
    "# the same value. seems like they're moving away from this \n",
    "\n",
    "num3=55\n",
    "if num3 is 55:\n",
    "    print('this is the same number')\n"
   ]
  },
  {
   "cell_type": "markdown",
   "metadata": {},
   "source": [
    "##### 'in' keyword"
   ]
  },
  {
   "cell_type": "code",
   "execution_count": 49,
   "metadata": {},
   "outputs": [
    {
     "name": "stdout",
     "output_type": "stream",
     "text": [
      "that's the dog\n"
     ]
    }
   ],
   "source": [
    "# check if a character is in a string\n",
    "\n",
    "char_name = 'mona the dog'\n",
    "if 'mona' in char_name:\n",
    "    print('that\\'s the dog')"
   ]
  },
  {
   "cell_type": "markdown",
   "metadata": {},
   "source": [
    "##### 'not in' keyword'"
   ]
  },
  {
   "cell_type": "code",
   "execution_count": 50,
   "metadata": {},
   "outputs": [
    {
     "name": "stdout",
     "output_type": "stream",
     "text": [
      "tonks is a cat not a dog\n"
     ]
    }
   ],
   "source": [
    "if 'tonks' not in char_name:\n",
    "    print('tonks is a cat not a dog')"
   ]
  },
  {
   "cell_type": "markdown",
   "metadata": {},
   "source": [
    "# In-Class Exercise 2 <br>\n",
    "<p>Ask user for input, check to see if the letter 'p' is in the input</p>"
   ]
  },
  {
   "cell_type": "code",
   "execution_count": 52,
   "metadata": {},
   "outputs": [
    {
     "name": "stdout",
     "output_type": "stream",
     "text": [
      "enter a name: tonks\n",
      "there is not a p in your name\n"
     ]
    }
   ],
   "source": [
    "user_input = input('enter a name: ')\n",
    "p = 'p'\n",
    "if p in user_input:\n",
    "    print(f'there is a {p} in your name')\n",
    "else:\n",
    "    print(f'there is not a {p} in your name')"
   ]
  },
  {
   "cell_type": "markdown",
   "metadata": {},
   "source": [
    "## Using 'and'/'or' with If Statements"
   ]
  },
  {
   "cell_type": "code",
   "execution_count": 53,
   "metadata": {},
   "outputs": [
    {
     "name": "stdout",
     "output_type": "stream",
     "text": [
      "true and true\n"
     ]
    }
   ],
   "source": [
    "# for 'and' statements, all arguments need to be true\n",
    "# for 'or' statements, at least one needs to be true\n",
    "num_a = 12\n",
    "num_b = 14\n",
    "num_c = 40\n",
    "num_d = 10\n",
    "\n",
    "if num_a > num_d and num_c > num_a:\n",
    "    print('true and true')"
   ]
  },
  {
   "cell_type": "markdown",
   "metadata": {},
   "source": [
    "### Elif Statements"
   ]
  },
  {
   "cell_type": "code",
   "execution_count": 55,
   "metadata": {},
   "outputs": [
    {
     "name": "stdout",
     "output_type": "stream",
     "text": [
      "what is your name? max\n",
      "the name is max\n"
     ]
    }
   ],
   "source": [
    "# python will leave the if statement as soon as it finds\n",
    "# something that meets the criteria as opposed to going all the\n",
    "# way through. the order of these statements matters\n",
    "\n",
    "# else is a catch all\n",
    "\n",
    "f_name = input('what is your name? ')\n",
    "if f_name == 'smith':\n",
    "    print('the name is smith')\n",
    "elif f_name == 'jake':\n",
    "    print('the name is jake')\n",
    "elif f_name != 'max':\n",
    "    print('the name is not max')\n",
    "else:\n",
    "    print('the name is max')"
   ]
  },
  {
   "cell_type": "markdown",
   "metadata": {},
   "source": [
    "### Else Statements"
   ]
  },
  {
   "cell_type": "code",
   "execution_count": null,
   "metadata": {},
   "outputs": [],
   "source": [
    "# see above"
   ]
  },
  {
   "cell_type": "markdown",
   "metadata": {},
   "source": [
    "### For Loops"
   ]
  },
  {
   "cell_type": "code",
   "execution_count": 56,
   "metadata": {},
   "outputs": [
    {
     "name": "stdout",
     "output_type": "stream",
     "text": [
      "j\n",
      "a\n",
      "c\n",
      "o\n",
      "b\n",
      " \n",
      "n\n",
      "e\n",
      "l\n",
      "s\n",
      "o\n",
      "n\n"
     ]
    }
   ],
   "source": [
    "# for loop discussion in python 1.3 starts at 8:14 for reference\n",
    "# syntax:\n",
    "# for counter in condition\n",
    "\n",
    "# common practice to use the letter i for for loops\n",
    "name = 'jacob nelson'\n",
    "for letter in name:\n",
    "    print(letter)"
   ]
  },
  {
   "cell_type": "markdown",
   "metadata": {},
   "source": [
    "##### Using 'in' keyword"
   ]
  },
  {
   "cell_type": "code",
   "execution_count": null,
   "metadata": {},
   "outputs": [],
   "source": [
    "# see above"
   ]
  },
  {
   "cell_type": "markdown",
   "metadata": {},
   "source": [
    "##### Continue Statement"
   ]
  },
  {
   "cell_type": "code",
   "execution_count": null,
   "metadata": {},
   "outputs": [],
   "source": [
    "# will continue to next iteration"
   ]
  },
  {
   "cell_type": "code",
   "execution_count": 58,
   "metadata": {},
   "outputs": [
    {
     "name": "stdout",
     "output_type": "stream",
     "text": [
      "0\n",
      "1\n",
      "2\n",
      "3\n",
      "4\n",
      "6\n",
      "7\n",
      "8\n",
      "9\n",
      "10\n",
      "11\n",
      "12\n",
      "13\n",
      "14\n",
      "15\n",
      "16\n",
      "17\n",
      "18\n",
      "19\n"
     ]
    }
   ],
   "source": [
    "for i in range(20):\n",
    "    if i == 5:\n",
    "        continue\n",
    "    print(i)"
   ]
  },
  {
   "cell_type": "markdown",
   "metadata": {},
   "source": [
    "##### Break Statement"
   ]
  },
  {
   "cell_type": "code",
   "execution_count": null,
   "metadata": {},
   "outputs": [],
   "source": [
    "# will break out of current loop"
   ]
  },
  {
   "cell_type": "code",
   "execution_count": 59,
   "metadata": {},
   "outputs": [
    {
     "name": "stdout",
     "output_type": "stream",
     "text": [
      "0\n",
      "1\n",
      "2\n",
      "3\n",
      "4\n"
     ]
    }
   ],
   "source": [
    "for i in range(20):\n",
    "    if i == 5:\n",
    "        break\n",
    "    print(i)"
   ]
  },
  {
   "cell_type": "markdown",
   "metadata": {},
   "source": [
    "##### Pass Statement"
   ]
  },
  {
   "cell_type": "code",
   "execution_count": null,
   "metadata": {},
   "outputs": [],
   "source": [
    "# mostly used as a placeholder, and will continue on same iteration"
   ]
  },
  {
   "cell_type": "code",
   "execution_count": null,
   "metadata": {},
   "outputs": [],
   "source": [
    "for i in name:\n",
    "    pass"
   ]
  },
  {
   "cell_type": "markdown",
   "metadata": {},
   "source": [
    "##### Double For Loops"
   ]
  },
  {
   "cell_type": "code",
   "execution_count": 60,
   "metadata": {},
   "outputs": [
    {
     "name": "stdout",
     "output_type": "stream",
     "text": [
      "i = 0 j = 0\n",
      "i = 0 j = 1\n",
      "i = 0 j = 2\n",
      "i = 0 j = 3\n",
      "i = 0 j = 4\n",
      "i = 1 j = 0\n",
      "i = 1 j = 1\n",
      "i = 1 j = 2\n",
      "i = 1 j = 3\n",
      "i = 1 j = 4\n",
      "i = 2 j = 0\n",
      "i = 2 j = 1\n",
      "i = 2 j = 2\n",
      "i = 2 j = 3\n",
      "i = 2 j = 4\n",
      "i = 3 j = 0\n",
      "i = 3 j = 1\n",
      "i = 3 j = 2\n",
      "i = 3 j = 3\n",
      "i = 3 j = 4\n",
      "i = 4 j = 0\n",
      "i = 4 j = 1\n",
      "i = 4 j = 2\n",
      "i = 4 j = 3\n",
      "i = 4 j = 4\n"
     ]
    }
   ],
   "source": [
    "# can run kinda slowly if you're working with giant things\n",
    "# for every 1 loop that i goes through, j goes through 5\n",
    "for i in range(5):\n",
    "    for j in range(5):\n",
    "        print('i =', i, 'j =',j)"
   ]
  },
  {
   "cell_type": "markdown",
   "metadata": {},
   "source": [
    "### While Loops"
   ]
  },
  {
   "cell_type": "code",
   "execution_count": 61,
   "metadata": {},
   "outputs": [
    {
     "name": "stdout",
     "output_type": "stream",
     "text": [
      "0\n",
      "1\n",
      "2\n",
      "3\n",
      "4\n",
      "5\n",
      "6\n",
      "7\n",
      "8\n",
      "9\n"
     ]
    }
   ],
   "source": [
    "# syntax:\n",
    "# while keyword, condition statement\n",
    "\n",
    "num = 0\n",
    "while num < 10:\n",
    "    print(num)\n",
    "    num += 1"
   ]
  },
  {
   "cell_type": "markdown",
   "metadata": {},
   "source": [
    "##### Looping 'While True'"
   ]
  },
  {
   "cell_type": "code",
   "execution_count": 62,
   "metadata": {},
   "outputs": [
    {
     "name": "stdout",
     "output_type": "stream",
     "text": [
      "infinite loop\n",
      "would you like to stop? w\n",
      "infinite loop\n",
      "would you like to stop? n\n",
      "infinite loop\n",
      "would you like to stop? yes\n"
     ]
    }
   ],
   "source": [
    "# can be bad practice because it doesn't have any stop gap\n",
    "\n",
    "game_over = True\n",
    "\n",
    "while game_over:\n",
    "    print('infinite loop')\n",
    "    user_input = input('would you like to stop? ')\n",
    "    if user_input == \"yes\":\n",
    "        game_over = False"
   ]
  },
  {
   "cell_type": "markdown",
   "metadata": {},
   "source": [
    "##### While & For Loops Used Together"
   ]
  },
  {
   "cell_type": "code",
   "execution_count": 63,
   "metadata": {},
   "outputs": [
    {
     "name": "stdout",
     "output_type": "stream",
     "text": [
      "\n",
      "while loop iteration: 0\n",
      "for loop iteration: 0\n",
      "for loop iteration: 1\n",
      "\n",
      "while loop iteration: 1\n",
      "for loop iteration: 0\n",
      "for loop iteration: 1\n",
      "\n",
      "while loop iteration: 2\n",
      "for loop iteration: 0\n",
      "for loop iteration: 1\n",
      "\n",
      "while loop iteration: 3\n",
      "for loop iteration: 0\n",
      "for loop iteration: 1\n",
      "\n",
      "while loop iteration: 4\n",
      "for loop iteration: 0\n",
      "for loop iteration: 1\n"
     ]
    }
   ],
   "source": [
    "num = 0\n",
    "\n",
    "while num < 5:\n",
    "    print('\\nwhile loop iteration: '+ str(num))\n",
    "    \n",
    "    for i in range(2):\n",
    "        print('for loop iteration: ' + str(i))\n",
    "    num+=1"
   ]
  },
  {
   "cell_type": "markdown",
   "metadata": {},
   "source": [
    "### Built-In Functions"
   ]
  },
  {
   "cell_type": "markdown",
   "metadata": {},
   "source": [
    "##### range()"
   ]
  },
  {
   "cell_type": "code",
   "execution_count": 74,
   "metadata": {},
   "outputs": [
    {
     "name": "stdout",
     "output_type": "stream",
     "text": [
      "2\n",
      "4\n",
      "6\n",
      "8\n",
      "10\n",
      "12\n",
      "14\n",
      "16\n",
      "18\n",
      "20\n"
     ]
    }
   ],
   "source": [
    "# range(start, stop, step)\n",
    "for i in range(2,21,2):\n",
    "    print(i)\n"
   ]
  },
  {
   "cell_type": "markdown",
   "metadata": {},
   "source": [
    "##### len()"
   ]
  },
  {
   "cell_type": "code",
   "execution_count": 76,
   "metadata": {},
   "outputs": [
    {
     "name": "stdout",
     "output_type": "stream",
     "text": [
      "what is the name of your favorite book? the great circle\n"
     ]
    },
    {
     "data": {
      "text/plain": [
       "16"
      ]
     },
     "execution_count": 76,
     "metadata": {},
     "output_type": "execute_result"
    }
   ],
   "source": [
    "name = input('what is the name of your favorite book? ')\n",
    "len(name)"
   ]
  },
  {
   "cell_type": "markdown",
   "metadata": {},
   "source": [
    "##### help()"
   ]
  },
  {
   "cell_type": "code",
   "execution_count": 78,
   "metadata": {},
   "outputs": [
    {
     "name": "stdout",
     "output_type": "stream",
     "text": [
      "Help on built-in function len in module builtins:\n",
      "\n",
      "len(obj, /)\n",
      "    Return the number of items in a container.\n",
      "\n"
     ]
    }
   ],
   "source": [
    "# use this to view more info about a python function\n",
    "help(len)"
   ]
  },
  {
   "cell_type": "markdown",
   "metadata": {},
   "source": [
    "##### isinstance()"
   ]
  },
  {
   "cell_type": "code",
   "execution_count": 81,
   "metadata": {},
   "outputs": [
    {
     "name": "stdout",
     "output_type": "stream",
     "text": [
      "False\n",
      "this number is a float type\n"
     ]
    }
   ],
   "source": [
    "# check a variable to find out what object family or data \n",
    "# it belongs to\n",
    "\n",
    "# isinstance(var,type)\n",
    "\n",
    "print(isinstance(4.5,int))\n",
    "\n",
    "if isinstance(4.5,float):\n",
    "    print('this number is a float type')\n",
    "    "
   ]
  },
  {
   "cell_type": "markdown",
   "metadata": {},
   "source": [
    "##### abs()"
   ]
  },
  {
   "cell_type": "code",
   "execution_count": 82,
   "metadata": {},
   "outputs": [
    {
     "name": "stdout",
     "output_type": "stream",
     "text": [
      "5\n"
     ]
    }
   ],
   "source": [
    "# absolute value, checking how far something is from 0 regardless\n",
    "# of positive or negative\n",
    "print(abs(-5))"
   ]
  },
  {
   "cell_type": "markdown",
   "metadata": {},
   "source": [
    "### Try and Except"
   ]
  },
  {
   "cell_type": "code",
   "execution_count": 87,
   "metadata": {},
   "outputs": [
    {
     "name": "stdout",
     "output_type": "stream",
     "text": [
      "guess a number pancake\n",
      "that didn't work. change your input to a number\n"
     ]
    }
   ],
   "source": [
    "# use this to share useful error messages\n",
    "# does not stop the program\n",
    "\n",
    "try:\n",
    "    input_num = int(input('guess a number '))\n",
    "    print('your number is: '+ str(input_num))\n",
    "except:\n",
    "    print('that didn\\'t work. change your input to a number')"
   ]
  },
  {
   "cell_type": "markdown",
   "metadata": {},
   "source": [
    "### Lists"
   ]
  },
  {
   "cell_type": "markdown",
   "metadata": {},
   "source": [
    "##### Declaring Lists"
   ]
  },
  {
   "cell_type": "code",
   "execution_count": 113,
   "metadata": {},
   "outputs": [
    {
     "name": "stdout",
     "output_type": "stream",
     "text": [
      "['sam', 'cindy', 'bob', 'nate']\n"
     ]
    }
   ],
   "source": [
    "# declaring an empty list\n",
    "one_list = []\n",
    "\n",
    "names = ['sam','cindy','bob','nate']\n",
    "print(names)"
   ]
  },
  {
   "cell_type": "markdown",
   "metadata": {},
   "source": [
    "##### Indexing a List"
   ]
  },
  {
   "cell_type": "code",
   "execution_count": 108,
   "metadata": {},
   "outputs": [
    {
     "name": "stdout",
     "output_type": "stream",
     "text": [
      "sam\n",
      "['sam', 'cindy', 'bob', 'nate']\n",
      "['sam', 'cindy']\n",
      "['sam', 'bob']\n",
      "['nate', 'bob', 'cindy', 'sam']\n"
     ]
    }
   ],
   "source": [
    "# list_name[start: stop: step]\n",
    "# Single_index returns as a string\n",
    "print(names[0])\n",
    "\n",
    "# prints all items on the list, returns as a list\n",
    "print(names[0:])\n",
    "\n",
    "# print starting at the beginning until a certian number\n",
    "print(names[:2])\n",
    "\n",
    "# print starting at 0 and going up by 2\n",
    "print(names[0::2])\n",
    "\n",
    "# print starting at the back and present in reverse order\n",
    "print(names[::-1])"
   ]
  },
  {
   "cell_type": "markdown",
   "metadata": {},
   "source": [
    "##### .append()"
   ]
  },
  {
   "cell_type": "code",
   "execution_count": 118,
   "metadata": {},
   "outputs": [
    {
     "name": "stdout",
     "output_type": "stream",
     "text": [
      "['sam', 'cindy', 'bob', 'nate', 'brandon', 'brandon', 'brandon']\n"
     ]
    }
   ],
   "source": [
    "# adds to the very end of a list\n",
    "names.append('brandon')\n",
    "print(names)"
   ]
  },
  {
   "cell_type": "markdown",
   "metadata": {},
   "source": [
    "##### .insert()"
   ]
  },
  {
   "cell_type": "code",
   "execution_count": 110,
   "metadata": {},
   "outputs": [
    {
     "name": "stdout",
     "output_type": "stream",
     "text": [
      "['sam', 'cindy', 'bob', 'devon', 'nate', 'brandon']\n"
     ]
    }
   ],
   "source": [
    "# adds to a list based on location\n",
    "names.insert(3,'devon')\n",
    "print(names)"
   ]
  },
  {
   "cell_type": "markdown",
   "metadata": {},
   "source": [
    "##### .pop()"
   ]
  },
  {
   "cell_type": "code",
   "execution_count": 212,
   "metadata": {},
   "outputs": [
    {
     "name": "stdout",
     "output_type": "stream",
     "text": [
      "bob\n"
     ]
    }
   ],
   "source": [
    "# defaults to last value if no parameter given\n",
    "# returns element that was removed \n",
    "names = ['sam','cindy','bob','nate']\n",
    "\n",
    "my_name = names.pop(2)\n",
    "print(my_name)"
   ]
  },
  {
   "cell_type": "markdown",
   "metadata": {},
   "source": [
    "\n",
    "##### .remove()"
   ]
  },
  {
   "cell_type": "code",
   "execution_count": 119,
   "metadata": {},
   "outputs": [
    {
     "name": "stdout",
     "output_type": "stream",
     "text": [
      "['sam', 'cindy', 'bob', 'nate', 'brandon', 'brandon']\n",
      "['sam', 'cindy', 'bob', 'nate']\n"
     ]
    }
   ],
   "source": [
    "# value to be removed rather than index\n",
    "names.remove('brandon')\n",
    "print(names)\n",
    "\n",
    "# remove multiple values\n",
    "while'brandon' in names:\n",
    "    names.remove('brandon')\n",
    "\n",
    "print(names)"
   ]
  },
  {
   "cell_type": "markdown",
   "metadata": {},
   "source": [
    "##### del()"
   ]
  },
  {
   "cell_type": "code",
   "execution_count": 120,
   "metadata": {},
   "outputs": [
    {
     "name": "stdout",
     "output_type": "stream",
     "text": [
      "['sam', 'bob', 'nate']\n"
     ]
    }
   ],
   "source": [
    "# goes my index\n",
    "# use caution, it can cause indexing errors if not used carefully\n",
    "\n",
    "del(names[1])\n",
    "print(names)"
   ]
  },
  {
   "cell_type": "markdown",
   "metadata": {},
   "source": [
    "##### Concatenating Two Lists"
   ]
  },
  {
   "cell_type": "code",
   "execution_count": 123,
   "metadata": {},
   "outputs": [
    {
     "name": "stdout",
     "output_type": "stream",
     "text": [
      "[0, 1, 2, 3, 4, 5]\n"
     ]
    }
   ],
   "source": [
    "# append two lists together, not add the values\n",
    "list_2 = [0,1,2]\n",
    "list_3 = [3,4,5]\n",
    "large_list = list_2 + list_3\n",
    "print(large_list)"
   ]
  },
  {
   "cell_type": "markdown",
   "metadata": {},
   "source": [
    "##### Lists Within Lists"
   ]
  },
  {
   "cell_type": "code",
   "execution_count": null,
   "metadata": {},
   "outputs": [],
   "source": [
    "# lists can hold any type of other data types including other lists\n",
    "# called nested lists\n",
    "\n",
    "names = ['max','sam','josh',['sally', 'sue','tameka']]\n",
    "print(names)\n",
    "print(names[3][0])"
   ]
  },
  {
   "cell_type": "markdown",
   "metadata": {},
   "source": [
    "##### Looping Through Lists"
   ]
  },
  {
   "cell_type": "code",
   "execution_count": 125,
   "metadata": {},
   "outputs": [
    {
     "name": "stdout",
     "output_type": "stream",
     "text": [
      "max\n",
      "sam\n",
      "josh\n",
      "['sally', 'sue', 'tameka']\n",
      "max\n",
      "sam\n",
      "josh\n",
      "['sally', 'sue', 'tameka']\n"
     ]
    }
   ],
   "source": [
    "# two ways to loop, index and 'in' keyword\n",
    "\n",
    "# by index\n",
    "for i in range(len(names)):\n",
    "    print(names[i])\n",
    "\n",
    "    \n",
    "# loop with in\n",
    "for i in names:\n",
    "    print(i)"
   ]
  },
  {
   "cell_type": "markdown",
   "metadata": {},
   "source": [
    "## Exercise #1 <br>\n",
    "<p>Cube Number Test... Print out all cubed numbers up to the total value 1000. Meaning that if the cubed number is over 1000 break the loop.</p>"
   ]
  },
  {
   "cell_type": "code",
   "execution_count": 69,
   "metadata": {},
   "outputs": [
    {
     "name": "stdout",
     "output_type": "stream",
     "text": [
      "1 cubed equals 1\n",
      "2 cubed equals 8\n",
      "3 cubed equals 27\n",
      "4 cubed equals 64\n",
      "5 cubed equals 125\n",
      "6 cubed equals 216\n",
      "7 cubed equals 343\n",
      "8 cubed equals 512\n",
      "9 cubed equals 729\n",
      "10 cubed equals 1000\n"
     ]
    }
   ],
   "source": [
    "cubed_num = 1\n",
    "cube = 3\n",
    "\n",
    "while cubed_num ** cube <= 1000:\n",
    "    result = cubed_num ** cube\n",
    "    print(f'{cubed_num} cubed equals {result}')\n",
    "    cubed_num +=1"
   ]
  },
  {
   "cell_type": "markdown",
   "metadata": {},
   "source": [
    "## Exercise #2 <br>\n",
    "<p>Get first prime numbers up to 100</p>"
   ]
  },
  {
   "cell_type": "code",
   "execution_count": 210,
   "metadata": {
    "scrolled": true
   },
   "outputs": [
    {
     "name": "stdout",
     "output_type": "stream",
     "text": [
      "these are prime numbers: [1, 2, 11, 13, 17, 19, 23, 29, 31, 37, 41, 43, 47, 53, 59, 61, 67, 71, 73, 79, 83, 89, 97]\n"
     ]
    }
   ],
   "source": [
    "# HINT::\n",
    "# An else after an if runs if the if didn’t\n",
    "# An else after a for runs if the for didn’t break\n",
    "\n",
    "prime_check = range(1,101)\n",
    "prime_nums = []\n",
    "       \n",
    "for i in prime_check: \n",
    "    if i == 2:\n",
    "        prime_nums.append(i)\n",
    "    elif i % 2 == 0 or i % 3 == 0 or i % 4 == 0 or i % 5 == 0 or i % 6 == 0 or i % 7 == 0 or i % 8 == 0 or i % 9 == 0:\n",
    "        continue\n",
    "    else:\n",
    "        prime_nums.append(i)\n",
    "        \n",
    "print('these are prime numbers:', prime_nums)"
   ]
  },
  {
   "cell_type": "code",
   "execution_count": 209,
   "metadata": {},
   "outputs": [
    {
     "name": "stdout",
     "output_type": "stream",
     "text": [
      "these are prime numbers: [1, 2, 11, 13, 17, 19, 23, 29, 31, 37, 41, 43, 47, 53, 59, 61, 67, 71, 73, 79, 83, 89, 97]\n"
     ]
    }
   ],
   "source": [
    "#here's a second way i came up with to find prime numbers\n",
    "\n",
    "prime_check = range(1,101)\n",
    "prime_nums = []\n",
    "for num in prime_check:\n",
    "    if num == 2:\n",
    "        prime_nums.append(num)\n",
    "    j = 0\n",
    "    for i in range(2,10):\n",
    "        if num % i != 0:\n",
    "            j = j + i\n",
    "            if j == 44:\n",
    "                prime_nums.append(num)\n",
    "            else:\n",
    "                continue\n",
    "        else:\n",
    "            continue\n",
    "print('these are prime numbers:', prime_nums)"
   ]
  },
  {
   "cell_type": "markdown",
   "metadata": {},
   "source": [
    "# Exercise 3 <br>\n",
    "<p>Take in a users input for their age, if they are younger than 18 print kids, if they're 18 to 65 print adults, else print seniors</p>"
   ]
  },
  {
   "cell_type": "code",
   "execution_count": 2,
   "metadata": {},
   "outputs": [
    {
     "name": "stdout",
     "output_type": "stream",
     "text": [
      "You are a child\n"
     ]
    }
   ],
   "source": [
    "user_age = int(input('What is your age? '))\n",
    "\n",
    "if user_age < 18:\n",
    "    print('You are a child')\n",
    "elif user_age >= 18 and user_age <= 65:\n",
    "    print('You are an adult')\n",
    "else:\n",
    "    print('You are a senior')\n"
   ]
  },
  {
   "cell_type": "code",
   "execution_count": null,
   "metadata": {},
   "outputs": [],
   "source": []
  }
 ],
 "metadata": {
  "kernelspec": {
   "display_name": "Python 3",
   "language": "python",
   "name": "python3"
  },
  "language_info": {
   "codemirror_mode": {
    "name": "ipython",
    "version": 3
   },
   "file_extension": ".py",
   "mimetype": "text/x-python",
   "name": "python",
   "nbconvert_exporter": "python",
   "pygments_lexer": "ipython3",
   "version": "3.11.1"
  },
  "vscode": {
   "interpreter": {
    "hash": "aee8b7b246df8f9039afb4144a1f6fd8d2ca17a180786b69acc140d282b71a49"
   }
  }
 },
 "nbformat": 4,
 "nbformat_minor": 2
}
